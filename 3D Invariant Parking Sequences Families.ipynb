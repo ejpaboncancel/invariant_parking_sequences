{
 "cells": [
  {
   "cell_type": "code",
   "execution_count": 1,
   "metadata": {},
   "outputs": [],
   "source": [
    "import itertools as it\n",
    "from itertools import product\n",
    "from itertools import permutations\n",
    "import pandas as pd\n",
    "import math\n",
    "import numpy as np\n",
    "import random\n",
    "\n",
    "\"\"\"\n",
    "coding parking functions\n",
    "\n",
    "This first part of the code is what we call the parking experiment. It establishes the parameters for the code\n",
    "and  it encodes the parking sequence algorithm.\n",
    "\"\"\"\n",
    "\n",
    "def parking_experiment(x, y):\n",
    "    defect = 0\n",
    "    n = len(y)\n",
    "    m = sum(y)\n",
    "    spots = [None for _ in range(m)]\n",
    "    for j in range(n):\n",
    "        parked = False\n",
    "        for i in range(x[j], m - y[j] + 1):\n",
    "            if all(spots[i + k] is None for k in range(y[j])):\n",
    "                for k in range(y[j]):\n",
    "                    spots[i + k] = j\n",
    "                parked = True\n",
    "                break\n",
    "        if not parked:\n",
    "            defect += 1\n",
    "\n",
    "    return defect"
   ]
  },
  {
   "cell_type": "code",
   "execution_count": 2,
   "metadata": {},
   "outputs": [],
   "source": [
    "\"\"\"\n",
    "This part of the code verifies the permutation-invariant parking sequences for a given y. \n",
    "\"\"\"\n",
    "\n",
    "def inv_ps(y):\n",
    "    n = len(y)\n",
    "    m = sum(y)\n",
    "    ips = []\n",
    "    x_nondec = list(tuple(sorted(x)) for x in it.product([i for i in range(m)], repeat=n)) # generate all non-decreasing\n",
    "    for x in x_nondec:\n",
    "        # check defects\n",
    "        if all(parking_experiment(perm_x, y) == 0 for perm_x in it.permutations(x)):\n",
    "            for perm_x in it.permutations(x):\n",
    "                new_tuple = tuple(x+1 for x in perm_x)\n",
    "                ips.append(new_tuple)\n",
    "    ips = pd.Series(ips).unique()\n",
    "    return np.array(ips)"
   ]
  },
  {
   "cell_type": "code",
   "execution_count": null,
   "metadata": {},
   "outputs": [],
   "source": [
    "\"\"\"\n",
    "This part of the code establishes the values for the car lengths in the y vector (car length vector) and calculates all\n",
    "permutation-invariant parking sequences of the car length vector up-to permutation. In these families of parking sequences\n",
    "you can also observe which car length vectors are minimally invariant.\n",
    "\"\"\"\n",
    "\n",
    "for i in range(1,5):\n",
    "    for j in range(1,5):\n",
    "        for k in range(1,5):\n",
    "            y = [i,j,k]\n",
    "            print(y)\n",
    "            nondec = set(tuple(sorted(x)) for x in inv_ps(y))\n",
    "            for obj in nondec:\n",
    "                print(obj)\n",
    "            print(len(nondec))\n",
    "            print(\"----------\")"
   ]
  },
  {
   "cell_type": "code",
   "execution_count": null,
   "metadata": {},
   "outputs": [],
   "source": []
  }
 ],
 "metadata": {
  "kernelspec": {
   "display_name": "SageMath 9.3",
   "language": "sage",
   "name": "sagemath"
  },
  "language_info": {
   "codemirror_mode": {
    "name": "ipython",
    "version": 3
   },
   "file_extension": ".py",
   "mimetype": "text/x-python",
   "name": "python",
   "nbconvert_exporter": "python",
   "pygments_lexer": "ipython3",
   "version": "3.7.10"
  }
 },
 "nbformat": 4,
 "nbformat_minor": 4
}

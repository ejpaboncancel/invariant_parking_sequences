{
 "cells": [
  {
   "cell_type": "code",
   "execution_count": 2,
   "metadata": {},
   "outputs": [],
   "source": [
    "import itertools as it\n",
    "import pandas as pd\n",
    "\n",
    "\"\"\"\n",
    "coding parking functions\n",
    "\"\"\"\n",
    "\n",
    "\n",
    "def parking_experiment(x, y):\n",
    "    x = tuple(x_i - 1 for x_i in x)\n",
    "    defect = 0\n",
    "    n = len(y)\n",
    "    m = sum(y)\n",
    "    spots = [None for _ in range(m)]\n",
    "    for j in range(n):\n",
    "        parked = False\n",
    "        for i in range(x[j], m - y[j] + 1):\n",
    "            if all(spots[i + k] is None for k in range(y[j])):\n",
    "                for k in range(y[j]):\n",
    "                    spots[i + k] = j\n",
    "                parked = True\n",
    "                break\n",
    "        if not parked:\n",
    "            defect += 1\n",
    "\n",
    "    return defect"
   ]
  },
  {
   "cell_type": "code",
   "execution_count": null,
   "metadata": {},
   "outputs": [],
   "source": [
    "\"\"\" \n",
    "This part of the code verifies computationally when the car length vector is minimally invariant. This is done with the main\n",
    "theorem/result conditions in our research.\n",
    "\"\"\"\n",
    "\n",
    "\n",
    "# --- m.i. --- #\n",
    "k = 4\n",
    "min_n = 1\n",
    "max_n = 4\n",
    "for n in range(min_n, max_n + 1):\n",
    "\n",
    "    print('Processing n: {0}'.format(n))\n",
    "    ct = 0\n",
    "    tot = k ** n\n",
    "    for y in it.product([i for i in range(1, k + 1)], repeat=n):\n",
    "        ct += 1\n",
    "        print('     {0}%'.format(round(100 * ct/tot, 2)), sep=' ', end='\\r', flush=True)\n",
    "        m = sum(y)\n",
    "\n",
    "        count = 0\n",
    "        mi_experiment = True\n",
    "        x_nondec = set(tuple(sorted(x)) for x in it.product([i for i in range(1, m + 1)], repeat=n))\n",
    "        for x in x_nondec:\n",
    "            if all(parking_experiment(perm_x, y) == 0 for perm_x in it.permutations(x)):\n",
    "                count += 1\n",
    "            if count > 1:\n",
    "                mi_experiment = False\n",
    "                break\n",
    "\n",
    "        mi_theorem = True\n",
    "        for w in range(2, m + 1):\n",
    "            x = tuple([1 for _ in range(n - 1)] + [w])\n",
    "            if all(parking_experiment(perm_x, y) == 0 for perm_x in it.permutations(x)):\n",
    "                mi_theorem = False\n",
    "                break\n",
    "\n",
    "        if mi_experiment != mi_theorem:\n",
    "            print('Failure: {0}'.format(y))"
   ]
  }
 ],
 "metadata": {
  "kernelspec": {
   "display_name": "SageMath 9.3",
   "language": "sage",
   "name": "sagemath"
  },
  "language_info": {
   "codemirror_mode": {
    "name": "ipython",
    "version": 3
   },
   "file_extension": ".py",
   "mimetype": "text/x-python",
   "name": "python",
   "nbconvert_exporter": "python",
   "pygments_lexer": "ipython3",
   "version": "3.7.10"
  }
 },
 "nbformat": 4,
 "nbformat_minor": 4
}
